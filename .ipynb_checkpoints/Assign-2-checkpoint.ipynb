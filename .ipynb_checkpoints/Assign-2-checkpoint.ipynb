{
 "cells": [
  {
   "cell_type": "markdown",
   "id": "b75185ec-93bb-4cfa-addd-5c911114ef99",
   "metadata": {},
   "source": [
    "### Question 1 Age group classification "
   ]
  },
  {
   "cell_type": "code",
   "execution_count": 3,
   "id": "061d500a-2e92-4adb-997a-e9dd258d196a",
   "metadata": {},
   "outputs": [
    {
     "name": "stdin",
     "output_type": "stream",
     "text": [
      "Enter your age:  65\n"
     ]
    },
    {
     "name": "stdout",
     "output_type": "stream",
     "text": [
      "Senior\n"
     ]
    }
   ],
   "source": [
    "age = int(input(\"Enter your age: \"))\n",
    "if age<=12:\n",
    "    print(\"Child\")\n",
    "elif age>12 and age<=19:\n",
    "    print(\"Teenager\")\n",
    "elif age>19 and age<=64:\n",
    "    print(\"Adult\")\n",
    "else:\n",
    "      print(\"Senior\")"
   ]
  },
  {
   "cell_type": "markdown",
   "id": "3b877d39-e0e4-4c4b-b7c5-af9f6095ea25",
   "metadata": {},
   "source": [
    "### Question 2 Check for eligibility for discount"
   ]
  },
  {
   "cell_type": "code",
   "execution_count": 12,
   "id": "291a4c98-edd2-46dd-b651-6aa425aaeb98",
   "metadata": {},
   "outputs": [
    {
     "name": "stdin",
     "output_type": "stream",
     "text": [
      "Enter the status of your membership status (premium/regular):  regular\n",
      "Enter the amount of your purchase:  1000\n"
     ]
    },
    {
     "name": "stdout",
     "output_type": "stream",
     "text": [
      "Not eligible for discount\n"
     ]
    }
   ],
   "source": [
    "membership = str(input(\"Enter the status of your membership status (premium/regular): \"))\n",
    "purchase_amount = float(input(\"Enter the amount of your purchase: \"))\n",
    "if membership == \"premium\" and purchase_amount>=1000:\n",
    "    print(\"Eligible for discount\")\n",
    "elif membership == \"regular\" and purchase_amount >= 2000:\n",
    "    print(\"Eligible for discount\")\n",
    "else:\n",
    "      print(\"Not eligible for discount\")"
   ]
  },
  {
   "cell_type": "code",
   "execution_count": null,
   "id": "153ae513-649e-4310-98ce-24d7cf125667",
   "metadata": {},
   "outputs": [],
   "source": []
  },
  {
   "cell_type": "markdown",
   "id": "4696cac8-a41b-422a-a244-3c67d59400d4",
   "metadata": {},
   "source": [
    "### Question 3 Voting eligibilty Check"
   ]
  },
  {
   "cell_type": "code",
   "execution_count": 13,
   "id": "ea1ff15f-dbb3-48be-8a17-18d8ff99ff61",
   "metadata": {},
   "outputs": [
    {
     "name": "stdin",
     "output_type": "stream",
     "text": [
      "Enter your age: 20\n",
      "Enter your citizenship status (citizen/non-citizen/special region citizen): non-citizen\n"
     ]
    },
    {
     "name": "stdout",
     "output_type": "stream",
     "text": [
      "Not eligible to vote\n"
     ]
    }
   ],
   "source": [
    "age = int(input(\"Enter your age:\"))\n",
    "cit_status = str(input(\"Enter your citizenship status (citizen/non-citizen/special region citizen):\"))\n",
    "if age>=18 and cit_status == \"citizen\":\n",
    "    print(\"Eligible to vote\")\n",
    "elif age>=16 and cit_status == \"special region citizen\":\n",
    "    print(\"Eligible to vote\")\n",
    "else:\n",
    "     print(\"Not eligible to vote\")"
   ]
  },
  {
   "cell_type": "code",
   "execution_count": null,
   "id": "b3e1bb68-170d-448d-844f-6d6fd3822b45",
   "metadata": {},
   "outputs": [],
   "source": []
  },
  {
   "cell_type": "code",
   "execution_count": null,
   "id": "f994e150-89c5-4826-bdee-bc7d9f13067a",
   "metadata": {},
   "outputs": [],
   "source": []
  },
  {
   "cell_type": "markdown",
   "id": "470b7c2f-6ebe-4605-bcd4-b38157c0dc05",
   "metadata": {},
   "source": [
    "### Question 4 Employee Salary Bonus Eligiblity"
   ]
  },
  {
   "cell_type": "code",
   "execution_count": 14,
   "id": "7d3f6b0e-733a-4be8-a59f-042c324af213",
   "metadata": {},
   "outputs": [
    {
     "name": "stdin",
     "output_type": "stream",
     "text": [
      "Enter your performance rating (excellent/good/satisfactory): good\n",
      "Enter your years of service :  15\n"
     ]
    },
    {
     "name": "stdout",
     "output_type": "stream",
     "text": [
      "Eligible for bonus\n"
     ]
    }
   ],
   "source": [
    "perfom_rating = str(input(\"Enter your performance rating (excellent/good/satisfactory):\"))\n",
    "service_years = int(input(\"Enter your years of service : \"))\n",
    "if perfom_rating == \"excellent\" and service_years >= 5:\n",
    "    print(\"Eligible for bonus\")\n",
    "elif perfom_rating == \"good\" and service_years >= 10:\n",
    "    print(\"Eligible for bonus\")\n",
    "elif perfom_rating == \"satisfactory\" and service_years >= 15:\n",
    "    print(\"Eligible for bonus\")\n",
    "else: \n",
    "      print(\"Not eligible for bonus\")"
   ]
  },
  {
   "cell_type": "code",
   "execution_count": null,
   "id": "d6aa256b-b0b2-48bd-aec3-8cf5063243a3",
   "metadata": {},
   "outputs": [],
   "source": []
  },
  {
   "cell_type": "code",
   "execution_count": null,
   "id": "8ee40c8d-65f5-49ab-ae96-fb82dc201d33",
   "metadata": {},
   "outputs": [],
   "source": []
  },
  {
   "cell_type": "markdown",
   "id": "938d13eb-39c2-44a4-86e8-875a441cd3ae",
   "metadata": {},
   "source": [
    "### Question 5 "
   ]
  },
  {
   "cell_type": "code",
   "execution_count": 20,
   "id": "7020587a-673f-4427-b4da-65f458722778",
   "metadata": {},
   "outputs": [
    {
     "name": "stdout",
     "output_type": "stream",
     "text": [
      "I'm_learning_Python_programming\n",
      "Count of the underscores: 3\n",
      "first underscore position: 3\n"
     ]
    }
   ],
   "source": [
    "text = \"I'm learning Python programming\"\n",
    "modified_text = text.replace(\" \",\"_\")\n",
    "print(modified_text)\n",
    "underscore_count = modified_text.count(\"_\")\n",
    "print(\"Count of the underscores:\",underscore_count)\n",
    "first_underscore = modified_text.find(\"_\")\n",
    "print(\"first underscore position:\",first_underscore)"
   ]
  },
  {
   "cell_type": "code",
   "execution_count": null,
   "id": "44e4a15f-deeb-45ad-b454-e767e328f714",
   "metadata": {},
   "outputs": [],
   "source": []
  },
  {
   "cell_type": "markdown",
   "id": "157aeccb-9b74-447c-9952-85e0f65bf1a3",
   "metadata": {},
   "source": [
    "### Question 6 "
   ]
  },
  {
   "cell_type": "code",
   "execution_count": 26,
   "id": "8d7c673c-c916-4a85-9891-95fd5b573085",
   "metadata": {},
   "outputs": [
    {
     "name": "stdin",
     "output_type": "stream",
     "text": [
      "Write something about yourself: muniambakhtiar\n"
     ]
    },
    {
     "name": "stdout",
     "output_type": "stream",
     "text": [
      "muniambakht\n",
      "mnabkta\n",
      "raithkabmainum\n"
     ]
    }
   ],
   "source": [
    "text = str(input(\"Write something about yourself:\"))\n",
    "text_slicing = text[:-3]\n",
    "print(text_slicing)\n",
    "textchar = text[::2]\n",
    "print(textchar)\n",
    "text_reverse = text[::-1]\n",
    "print(text_reverse)\n"
   ]
  },
  {
   "cell_type": "code",
   "execution_count": null,
   "id": "2bbee649-626f-466a-a911-f3afbfafbeaa",
   "metadata": {},
   "outputs": [],
   "source": []
  },
  {
   "cell_type": "code",
   "execution_count": null,
   "id": "2cc01a04-9d74-4a26-b616-b5929e630bed",
   "metadata": {},
   "outputs": [],
   "source": [
    "\n"
   ]
  },
  {
   "cell_type": "markdown",
   "id": "73921208-e59b-477b-a781-b13665e6dd17",
   "metadata": {},
   "source": [
    "### Question 7 "
   ]
  },
  {
   "cell_type": "code",
   "execution_count": 30,
   "id": "fa73d64a-edd4-4c0e-ac66-8b2f5e6ed14a",
   "metadata": {},
   "outputs": [
    {
     "name": "stdout",
     "output_type": "stream",
     "text": [
      "Python learning are We World, Hello\n"
     ]
    }
   ],
   "source": [
    "text = \"Hello World, We are learning Python\"\n",
    "words = text.split() ## for splitting the string into seperate words\n",
    "text_reverse = \" \".join(words[::-1]) ## For joining the words and  then reversing the order of the sentence\n",
    "print(text_reverse) ## printing the reversed orders of the list"
   ]
  },
  {
   "cell_type": "code",
   "execution_count": null,
   "id": "461735b3-163c-4d8c-b01d-652196a33ef8",
   "metadata": {},
   "outputs": [],
   "source": []
  },
  {
   "cell_type": "code",
   "execution_count": null,
   "id": "42443bdd-dbe8-4588-acff-8142cc3fc344",
   "metadata": {},
   "outputs": [],
   "source": [
    "\n"
   ]
  },
  {
   "cell_type": "markdown",
   "id": "3b4dbf01-0039-44d2-9f08-34cc6894fe19",
   "metadata": {},
   "source": [
    "## Question 8"
   ]
  },
  {
   "cell_type": "code",
   "execution_count": 31,
   "id": "b27eb187-5a68-41e2-913f-075075340fd6",
   "metadata": {},
   "outputs": [
    {
     "name": "stdout",
     "output_type": "stream",
     "text": [
      "12345\n"
     ]
    }
   ],
   "source": [
    "code = \"SKU-12345-XYZ\"\n",
    "number = code[4:-4]\n",
    "print(number)"
   ]
  },
  {
   "cell_type": "markdown",
   "id": "0f255a9f-79c7-4185-9e84-27062f9b3a4e",
   "metadata": {},
   "source": [
    "## Question 9"
   ]
  },
  {
   "cell_type": "code",
   "execution_count": 35,
   "id": "6462dc62-4e6d-46aa-bcdd-e650696f896f",
   "metadata": {},
   "outputs": [
    {
     "name": "stdin",
     "output_type": "stream",
     "text": [
      "Enter your password:  muniam77806*/\n"
     ]
    },
    {
     "name": "stdout",
     "output_type": "stream",
     "text": [
      "Contains uppercase characters: False\n",
      "Contains lowercase characters: True\n",
      "Contains spaces: False\n",
      "Contains special characters: True\n"
     ]
    }
   ],
   "source": [
    "# Input user password\n",
    "password = input(\"Enter your password: \")\n",
    "has_uppercase = any(char.isupper() for char in password)\n",
    "has_lowercase = any(char.islower() for char in password)\n",
    "has_space = any(char.isspace() for char in password)\n",
    "has_special = any(not char.isalnum() and not char.isspace() for char in password)\n",
    "print(\"Contains uppercase characters:\", has_uppercase)\n",
    "print(\"Contains lowercase characters:\", has_lowercase)\n",
    "print(\"Contains spaces:\", has_space)\n",
    "print(\"Contains special characters:\", has_special)\n"
   ]
  },
  {
   "cell_type": "code",
   "execution_count": null,
   "id": "a0b0cdec-b096-4402-b2d6-0e26e5493a7f",
   "metadata": {},
   "outputs": [],
   "source": []
  },
  {
   "cell_type": "code",
   "execution_count": null,
   "id": "72af2cc7-d718-415b-8b1d-c12286df6eab",
   "metadata": {},
   "outputs": [],
   "source": []
  },
  {
   "cell_type": "markdown",
   "id": "d527d723-c3c6-4d4f-a9d3-bd8456c563ed",
   "metadata": {},
   "source": [
    "## Question 10"
   ]
  },
  {
   "cell_type": "code",
   "execution_count": 33,
   "id": "45b2552c-b0ae-4138-a6e4-84b2eefe2cd1",
   "metadata": {},
   "outputs": [
    {
     "name": "stdout",
     "output_type": "stream",
     "text": [
      "programming\n"
     ]
    }
   ],
   "source": [
    "text = \"I love programming in Python\"\n",
    "words = text.split()\n",
    "longest_word = max(words,key=len)\n",
    "print(longest_word)\n"
   ]
  },
  {
   "cell_type": "code",
   "execution_count": null,
   "id": "92f972bd-fa9a-4648-972c-596d4d107834",
   "metadata": {},
   "outputs": [],
   "source": []
  }
 ],
 "metadata": {
  "kernelspec": {
   "display_name": "Python 3 (ipykernel)",
   "language": "python",
   "name": "python3"
  },
  "language_info": {
   "codemirror_mode": {
    "name": "ipython",
    "version": 3
   },
   "file_extension": ".py",
   "mimetype": "text/x-python",
   "name": "python",
   "nbconvert_exporter": "python",
   "pygments_lexer": "ipython3",
   "version": "3.12.7"
  }
 },
 "nbformat": 4,
 "nbformat_minor": 5
}
